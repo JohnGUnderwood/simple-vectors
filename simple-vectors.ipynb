{
 "cells": [
  {
   "cell_type": "code",
   "execution_count": 20,
   "metadata": {},
   "outputs": [],
   "source": [
    "import csv\n",
    "import json\n",
    "import os\n",
    "import pymongo\n",
    "from dotenv import load_dotenv\n",
    "import plotly.express as px\n",
    "from plotly.subplots import make_subplots\n",
    "import plotly.graph_objects as go\n",
    "import math\n",
    "import pandas as pd\n",
    "from sklearn.metrics.pairwise import cosine_similarity\n",
    "\n",
    "\n",
    "load_dotenv()\n",
    "\n",
    "def dotProduct(a,b):\n",
    "    dotproduct = 0.0\n",
    "    for k,v in enumerate(a):\n",
    "        dotproduct+=a[k]*b[k]\n",
    "    return dotproduct\n",
    "\n",
    "def normalize(v):\n",
    "    sum_of_squares = 0.0\n",
    "    for i in v:\n",
    "        sum_of_squares+=math.pow(i,2)\n",
    "\n",
    "    return [x / math.sqrt(sum_of_squares) for x in v]\n",
    "\n",
    "def vectorSearch(collection,inputVector,algo,normalized=True):\n",
    "  pipeline = [\n",
    "    {\n",
    "      \"$search\": {\n",
    "        \"index\": \"default\",\n",
    "        \"knnBeta\": {\n",
    "          \"vector\": normalize(inputVector) if normalized else inputVector,\n",
    "          \"path\": \"2d.{}.{}\".format('normalized' if normalized else 'raw',algo),\n",
    "          \"filter\": {\n",
    "            \"compound\": {\n",
    "              \"must\":[\n",
    "                  {\n",
    "                    \"text\":{\n",
    "                        \"query\":\"animal\",\n",
    "                        \"path\":\"type\"\n",
    "                    }\n",
    "                  }\n",
    "              ],\n",
    "              \"mustNot\":[\n",
    "                {\n",
    "                  \"equals\":{\n",
    "                    \"value\":input[\"_id\"],\n",
    "                    \"path\":\"_id\"\n",
    "                  }\n",
    "                }\n",
    "              ]\n",
    "            }\n",
    "          },\n",
    "          \"k\": 1\n",
    "        }\n",
    "      }\n",
    "    }\n",
    "  ]\n",
    "\n",
    "  return list(collection.aggregate(pipeline))\n",
    "\n",
    "def maximal_marginal_relevance(sentence_vector, documents, embedding_matrix, lambda_constant=0.5, threshold_docs=10):\n",
    "    \"\"\"\n",
    "    With thanks to: https://gist.github.com/aditya00kumar/011b6ad309de616e15c32b5efcd9f66d#file-mmr-py\n",
    "    Return ranked documents using MMR. Cosine similarity is used as similarity measure.\n",
    "    :param sentence_vector: Query vector\n",
    "    :param phrases: list of candidate documents\n",
    "    :param embedding_matrix: matrix having index as document ID and values as vector\n",
    "    :param lambda_constant: 0.5 to balance diversity and accuracy. if lambda_constant is high, then higher accuracy. If lambda_constant is low then high diversity.\n",
    "    :param threshold_docs: number of terms to include in result set\n",
    "    :return: Ranked documents with score\n",
    "    \"\"\"\n",
    "    # todo: Use cosine similarity matrix for lookup among phrases instead of making call everytime.\n",
    "    s = []\n",
    "    r = documents.index.to_list()\n",
    "    while len(r) > 0:\n",
    "        score = 0\n",
    "        docid_to_add = ''\n",
    "        for i in r:\n",
    "            first_part = cosine_similarity([sentence_vector], [embedding_matrix.loc[i]])[0][0]\n",
    "            second_part = 0\n",
    "            for j in s:\n",
    "                cos_sim = cosine_similarity([embedding_matrix.loc[i]], [embedding_matrix.loc[j['_id']]])[0][0]\n",
    "                if cos_sim > second_part:\n",
    "                    second_part = cos_sim\n",
    "            equation_score = lambda_constant*(first_part)-(1-lambda_constant) * second_part\n",
    "            if equation_score > score:\n",
    "                score = equation_score\n",
    "                docid_to_add = i\n",
    "        if docid_to_add == '':\n",
    "            docid_to_add = i\n",
    "        r.remove(docid_to_add)\n",
    "        doc_to_add = documents.loc[docid_to_add].to_dict()\n",
    "        doc_to_add['score'] = score\n",
    "        doc_to_add['_id']=i\n",
    "        s.append(doc_to_add)\n",
    "    return (s, s[:threshold_docs])[threshold_docs < len(s)]"
   ]
  },
  {
   "cell_type": "code",
   "execution_count": null,
   "metadata": {},
   "outputs": [],
   "source": [
    "MDB_URI = os.getenv('MDB_URI')\n",
    "print(MDB_URI)\n",
    "animals = []\n",
    "with open('animals.csv',newline='') as csvFile:\n",
    "        reader = csv.DictReader(csvFile,fieldnames=['species','body_weight','brain_weight'])\n",
    "        for i,row in enumerate(reader):\n",
    "            if i > 0:\n",
    "                row['_id'] = i\n",
    "                row['2d'] = {\n",
    "                    'raw':{\n",
    "                        'euclidean':[float(row['body_weight']),float(row['brain_weight'])],\n",
    "                        'dotproduct':[float(row['body_weight']),float(row['brain_weight'])],\n",
    "                        'cosine':[float(row['body_weight']),float(row['brain_weight'])]\n",
    "                    },\n",
    "                    'normalized':{\n",
    "                        'euclidean':normalize([float(row['body_weight']),float(row['brain_weight'])]),\n",
    "                        'dotproduct':normalize([float(row['body_weight']),float(row['brain_weight'])]),\n",
    "                        'cosine':normalize([float(row['body_weight']),float(row['brain_weight'])])\n",
    "                    }\n",
    "                }\n",
    "                row['dimensions'] = 2\n",
    "                row['body_weight'] = float(row['body_weight'])\n",
    "                row['brain_weight'] = float(row['brain_weight'])\n",
    "                row['type'] = 'animal'\n",
    "                animals.append(row)\n",
    "\n",
    "client = pymongo.MongoClient(MDB_URI)\n",
    "collection = client['test']['vectors']\n",
    "\n",
    "collection.delete_many({\"type\":'animal'})\n",
    "collection.insert_many(animals)"
   ]
  },
  {
   "cell_type": "code",
   "execution_count": 15,
   "metadata": {},
   "outputs": [
    {
     "data": {
      "application/vnd.plotly.v1+json": {
       "config": {
        "plotlyServerURL": "https://plot.ly"
       },
       "data": [
        {
         "hoverinfo": "text",
         "hovertext": [
          "Cow"
         ],
         "legendgroup": "1",
         "legendgrouptitle": {
          "text": "Normalized"
         },
         "mode": "markers",
         "name": "Input - Cow",
         "type": "scatter",
         "x": [
          0.7397240889561999
         ],
         "xaxis": "x",
         "y": [
          0.6729103002762851
         ],
         "yaxis": "y"
        },
        {
         "hoverinfo": "text",
         "hovertext": [
          "Pig"
         ],
         "legendgroup": "1",
         "legendgrouptitle": {
          "text": "Normalized"
         },
         "mode": "markers",
         "name": "Nearest - Pig",
         "type": "scatter",
         "x": [
          0.7295372041400852
         ],
         "xaxis": "x",
         "y": [
          0.6839411288813299
         ],
         "yaxis": "y"
        },
        {
         "hoverinfo": "text",
         "hovertext": [
          "Mountain Beaver",
          "Grey Wolf",
          "Goat",
          "Guinea Pig",
          "Diplodocus",
          "Asian Elephant",
          "Donkey",
          "Horse",
          "Potar Monkey",
          "Cat",
          "Giraffe",
          "Gorilla",
          "Human",
          "African Elephant",
          "Triceratops",
          "Rhesus Monkey",
          "Kangaroo",
          "Hamster",
          "Mouse",
          "Rabbit",
          "Sheep",
          "Jaguar",
          "Chimpanzee",
          "Brachiosaurus",
          "Rat",
          "Mole"
         ],
         "legendgroup": "1",
         "legendgrouptitle": {
          "text": "Normalized"
         },
         "mode": "markers",
         "name": "Others",
         "type": "scatter",
         "x": [
          0.16439898730535732,
          0.29087168290690235,
          0.23385256892521522,
          0.18579843543946484,
          0.9999908687056845,
          0.48415738227942323,
          0.407735203663776,
          0.6225069340572448,
          0.086629616364842,
          0.12784840929729985,
          0.6140209678835581,
          0.4542215971428217,
          0.04691797138424088,
          0.7587734313656674,
          0.9999722736746692,
          0.03796144464353891,
          0.52999894000318,
          0.11914522061843064,
          0.057405180370874664,
          0.20233796586463235,
          0.3023042179217266,
          0.5372230615427163,
          0.11772117109312494,
          0.9999984231606855,
          0.1457937895994972,
          0.04063308150291378
         ],
         "xaxis": "x",
         "y": [
          0.9863939238321437,
          0.9567620728702129,
          0.9722720689226229,
          0.982587879727939,
          0.0042734652508789935,
          0.874980930754686,
          0.9131002155805567,
          0.7826142836996071,
          0.996240588195683,
          0.9917937206093564,
          0.7892897129694131,
          0.8908887364250512,
          0.998898745599967,
          0.6513546498287786,
          0.007446602038002856,
          0.9992792045872743,
          0.847998304005088,
          0.9928768384869221,
          0.9983509629717333,
          0.9793157547848206,
          0.9532114979513903,
          0.8434402066220645,
          0.9930466886689987,
          0.00177585926871639,
          0.9893150008537308,
          0.999174135317552
         ],
         "yaxis": "y"
        },
        {
         "hoverinfo": "text",
         "hovertext": [
          "Cow"
         ],
         "legendgroup": "2",
         "legendgrouptitle": {
          "text": "Raw"
         },
         "mode": "markers",
         "name": "Input - Cow",
         "type": "scatter",
         "x": [
          465
         ],
         "xaxis": "x2",
         "y": [
          423
         ],
         "yaxis": "y2"
        },
        {
         "hoverinfo": "text",
         "hovertext": [
          "Horse"
         ],
         "legendgroup": "2",
         "legendgrouptitle": {
          "text": "Raw"
         },
         "mode": "markers",
         "name": "Nearest - Horse",
         "type": "scatter",
         "x": [
          521
         ],
         "xaxis": "x2",
         "y": [
          655
         ],
         "yaxis": "y2"
        },
        {
         "hoverinfo": "text",
         "hovertext": [
          "Mountain Beaver",
          "Grey Wolf",
          "Goat",
          "Guinea Pig",
          "Diplodocus",
          "Asian Elephant",
          "Donkey",
          "Potar Monkey",
          "Cat",
          "Giraffe",
          "Gorilla",
          "Human",
          "African Elephant",
          "Triceratops",
          "Rhesus Monkey",
          "Kangaroo",
          "Hamster",
          "Mouse",
          "Rabbit",
          "Sheep",
          "Jaguar",
          "Chimpanzee",
          "Brachiosaurus",
          "Rat",
          "Mole",
          "Pig"
         ],
         "legendgroup": "2",
         "legendgrouptitle": {
          "text": "Raw"
         },
         "mode": "markers",
         "name": "Others",
         "type": "scatter",
         "x": [
          1.35,
          36.33,
          27.66,
          1.04,
          11700,
          2547,
          187.1,
          10,
          3.3,
          529,
          207,
          62,
          6654,
          9400,
          6.8,
          35,
          0.12,
          0.023,
          2.5,
          55.5,
          100,
          52.16,
          87000,
          0.28,
          0.122,
          192
         ],
         "xaxis": "x2",
         "y": [
          8.1,
          119.5,
          115,
          5.5,
          50,
          4603,
          419,
          115,
          25.6,
          680,
          406,
          1320,
          5712,
          70,
          179,
          56,
          1,
          0.4,
          12.1,
          175,
          157,
          440,
          154.5,
          1.9,
          3,
          180
         ],
         "yaxis": "y2"
        }
       ],
       "layout": {
        "annotations": [
         {
          "font": {
           "size": 16
          },
          "showarrow": false,
          "text": "Normalized Values",
          "x": 0.225,
          "xanchor": "center",
          "xref": "paper",
          "y": 1,
          "yanchor": "bottom",
          "yref": "paper"
         },
         {
          "font": {
           "size": 16
          },
          "showarrow": false,
          "text": "Raw Values",
          "x": 0.775,
          "xanchor": "center",
          "xref": "paper",
          "y": 1,
          "yanchor": "bottom",
          "yref": "paper"
         }
        ],
        "template": {
         "data": {
          "bar": [
           {
            "error_x": {
             "color": "#2a3f5f"
            },
            "error_y": {
             "color": "#2a3f5f"
            },
            "marker": {
             "line": {
              "color": "#E5ECF6",
              "width": 0.5
             },
             "pattern": {
              "fillmode": "overlay",
              "size": 10,
              "solidity": 0.2
             }
            },
            "type": "bar"
           }
          ],
          "barpolar": [
           {
            "marker": {
             "line": {
              "color": "#E5ECF6",
              "width": 0.5
             },
             "pattern": {
              "fillmode": "overlay",
              "size": 10,
              "solidity": 0.2
             }
            },
            "type": "barpolar"
           }
          ],
          "carpet": [
           {
            "aaxis": {
             "endlinecolor": "#2a3f5f",
             "gridcolor": "white",
             "linecolor": "white",
             "minorgridcolor": "white",
             "startlinecolor": "#2a3f5f"
            },
            "baxis": {
             "endlinecolor": "#2a3f5f",
             "gridcolor": "white",
             "linecolor": "white",
             "minorgridcolor": "white",
             "startlinecolor": "#2a3f5f"
            },
            "type": "carpet"
           }
          ],
          "choropleth": [
           {
            "colorbar": {
             "outlinewidth": 0,
             "ticks": ""
            },
            "type": "choropleth"
           }
          ],
          "contour": [
           {
            "colorbar": {
             "outlinewidth": 0,
             "ticks": ""
            },
            "colorscale": [
             [
              0,
              "#0d0887"
             ],
             [
              0.1111111111111111,
              "#46039f"
             ],
             [
              0.2222222222222222,
              "#7201a8"
             ],
             [
              0.3333333333333333,
              "#9c179e"
             ],
             [
              0.4444444444444444,
              "#bd3786"
             ],
             [
              0.5555555555555556,
              "#d8576b"
             ],
             [
              0.6666666666666666,
              "#ed7953"
             ],
             [
              0.7777777777777778,
              "#fb9f3a"
             ],
             [
              0.8888888888888888,
              "#fdca26"
             ],
             [
              1,
              "#f0f921"
             ]
            ],
            "type": "contour"
           }
          ],
          "contourcarpet": [
           {
            "colorbar": {
             "outlinewidth": 0,
             "ticks": ""
            },
            "type": "contourcarpet"
           }
          ],
          "heatmap": [
           {
            "colorbar": {
             "outlinewidth": 0,
             "ticks": ""
            },
            "colorscale": [
             [
              0,
              "#0d0887"
             ],
             [
              0.1111111111111111,
              "#46039f"
             ],
             [
              0.2222222222222222,
              "#7201a8"
             ],
             [
              0.3333333333333333,
              "#9c179e"
             ],
             [
              0.4444444444444444,
              "#bd3786"
             ],
             [
              0.5555555555555556,
              "#d8576b"
             ],
             [
              0.6666666666666666,
              "#ed7953"
             ],
             [
              0.7777777777777778,
              "#fb9f3a"
             ],
             [
              0.8888888888888888,
              "#fdca26"
             ],
             [
              1,
              "#f0f921"
             ]
            ],
            "type": "heatmap"
           }
          ],
          "heatmapgl": [
           {
            "colorbar": {
             "outlinewidth": 0,
             "ticks": ""
            },
            "colorscale": [
             [
              0,
              "#0d0887"
             ],
             [
              0.1111111111111111,
              "#46039f"
             ],
             [
              0.2222222222222222,
              "#7201a8"
             ],
             [
              0.3333333333333333,
              "#9c179e"
             ],
             [
              0.4444444444444444,
              "#bd3786"
             ],
             [
              0.5555555555555556,
              "#d8576b"
             ],
             [
              0.6666666666666666,
              "#ed7953"
             ],
             [
              0.7777777777777778,
              "#fb9f3a"
             ],
             [
              0.8888888888888888,
              "#fdca26"
             ],
             [
              1,
              "#f0f921"
             ]
            ],
            "type": "heatmapgl"
           }
          ],
          "histogram": [
           {
            "marker": {
             "pattern": {
              "fillmode": "overlay",
              "size": 10,
              "solidity": 0.2
             }
            },
            "type": "histogram"
           }
          ],
          "histogram2d": [
           {
            "colorbar": {
             "outlinewidth": 0,
             "ticks": ""
            },
            "colorscale": [
             [
              0,
              "#0d0887"
             ],
             [
              0.1111111111111111,
              "#46039f"
             ],
             [
              0.2222222222222222,
              "#7201a8"
             ],
             [
              0.3333333333333333,
              "#9c179e"
             ],
             [
              0.4444444444444444,
              "#bd3786"
             ],
             [
              0.5555555555555556,
              "#d8576b"
             ],
             [
              0.6666666666666666,
              "#ed7953"
             ],
             [
              0.7777777777777778,
              "#fb9f3a"
             ],
             [
              0.8888888888888888,
              "#fdca26"
             ],
             [
              1,
              "#f0f921"
             ]
            ],
            "type": "histogram2d"
           }
          ],
          "histogram2dcontour": [
           {
            "colorbar": {
             "outlinewidth": 0,
             "ticks": ""
            },
            "colorscale": [
             [
              0,
              "#0d0887"
             ],
             [
              0.1111111111111111,
              "#46039f"
             ],
             [
              0.2222222222222222,
              "#7201a8"
             ],
             [
              0.3333333333333333,
              "#9c179e"
             ],
             [
              0.4444444444444444,
              "#bd3786"
             ],
             [
              0.5555555555555556,
              "#d8576b"
             ],
             [
              0.6666666666666666,
              "#ed7953"
             ],
             [
              0.7777777777777778,
              "#fb9f3a"
             ],
             [
              0.8888888888888888,
              "#fdca26"
             ],
             [
              1,
              "#f0f921"
             ]
            ],
            "type": "histogram2dcontour"
           }
          ],
          "mesh3d": [
           {
            "colorbar": {
             "outlinewidth": 0,
             "ticks": ""
            },
            "type": "mesh3d"
           }
          ],
          "parcoords": [
           {
            "line": {
             "colorbar": {
              "outlinewidth": 0,
              "ticks": ""
             }
            },
            "type": "parcoords"
           }
          ],
          "pie": [
           {
            "automargin": true,
            "type": "pie"
           }
          ],
          "scatter": [
           {
            "fillpattern": {
             "fillmode": "overlay",
             "size": 10,
             "solidity": 0.2
            },
            "type": "scatter"
           }
          ],
          "scatter3d": [
           {
            "line": {
             "colorbar": {
              "outlinewidth": 0,
              "ticks": ""
             }
            },
            "marker": {
             "colorbar": {
              "outlinewidth": 0,
              "ticks": ""
             }
            },
            "type": "scatter3d"
           }
          ],
          "scattercarpet": [
           {
            "marker": {
             "colorbar": {
              "outlinewidth": 0,
              "ticks": ""
             }
            },
            "type": "scattercarpet"
           }
          ],
          "scattergeo": [
           {
            "marker": {
             "colorbar": {
              "outlinewidth": 0,
              "ticks": ""
             }
            },
            "type": "scattergeo"
           }
          ],
          "scattergl": [
           {
            "marker": {
             "colorbar": {
              "outlinewidth": 0,
              "ticks": ""
             }
            },
            "type": "scattergl"
           }
          ],
          "scattermapbox": [
           {
            "marker": {
             "colorbar": {
              "outlinewidth": 0,
              "ticks": ""
             }
            },
            "type": "scattermapbox"
           }
          ],
          "scatterpolar": [
           {
            "marker": {
             "colorbar": {
              "outlinewidth": 0,
              "ticks": ""
             }
            },
            "type": "scatterpolar"
           }
          ],
          "scatterpolargl": [
           {
            "marker": {
             "colorbar": {
              "outlinewidth": 0,
              "ticks": ""
             }
            },
            "type": "scatterpolargl"
           }
          ],
          "scatterternary": [
           {
            "marker": {
             "colorbar": {
              "outlinewidth": 0,
              "ticks": ""
             }
            },
            "type": "scatterternary"
           }
          ],
          "surface": [
           {
            "colorbar": {
             "outlinewidth": 0,
             "ticks": ""
            },
            "colorscale": [
             [
              0,
              "#0d0887"
             ],
             [
              0.1111111111111111,
              "#46039f"
             ],
             [
              0.2222222222222222,
              "#7201a8"
             ],
             [
              0.3333333333333333,
              "#9c179e"
             ],
             [
              0.4444444444444444,
              "#bd3786"
             ],
             [
              0.5555555555555556,
              "#d8576b"
             ],
             [
              0.6666666666666666,
              "#ed7953"
             ],
             [
              0.7777777777777778,
              "#fb9f3a"
             ],
             [
              0.8888888888888888,
              "#fdca26"
             ],
             [
              1,
              "#f0f921"
             ]
            ],
            "type": "surface"
           }
          ],
          "table": [
           {
            "cells": {
             "fill": {
              "color": "#EBF0F8"
             },
             "line": {
              "color": "white"
             }
            },
            "header": {
             "fill": {
              "color": "#C8D4E3"
             },
             "line": {
              "color": "white"
             }
            },
            "type": "table"
           }
          ]
         },
         "layout": {
          "annotationdefaults": {
           "arrowcolor": "#2a3f5f",
           "arrowhead": 0,
           "arrowwidth": 1
          },
          "autotypenumbers": "strict",
          "coloraxis": {
           "colorbar": {
            "outlinewidth": 0,
            "ticks": ""
           }
          },
          "colorscale": {
           "diverging": [
            [
             0,
             "#8e0152"
            ],
            [
             0.1,
             "#c51b7d"
            ],
            [
             0.2,
             "#de77ae"
            ],
            [
             0.3,
             "#f1b6da"
            ],
            [
             0.4,
             "#fde0ef"
            ],
            [
             0.5,
             "#f7f7f7"
            ],
            [
             0.6,
             "#e6f5d0"
            ],
            [
             0.7,
             "#b8e186"
            ],
            [
             0.8,
             "#7fbc41"
            ],
            [
             0.9,
             "#4d9221"
            ],
            [
             1,
             "#276419"
            ]
           ],
           "sequential": [
            [
             0,
             "#0d0887"
            ],
            [
             0.1111111111111111,
             "#46039f"
            ],
            [
             0.2222222222222222,
             "#7201a8"
            ],
            [
             0.3333333333333333,
             "#9c179e"
            ],
            [
             0.4444444444444444,
             "#bd3786"
            ],
            [
             0.5555555555555556,
             "#d8576b"
            ],
            [
             0.6666666666666666,
             "#ed7953"
            ],
            [
             0.7777777777777778,
             "#fb9f3a"
            ],
            [
             0.8888888888888888,
             "#fdca26"
            ],
            [
             1,
             "#f0f921"
            ]
           ],
           "sequentialminus": [
            [
             0,
             "#0d0887"
            ],
            [
             0.1111111111111111,
             "#46039f"
            ],
            [
             0.2222222222222222,
             "#7201a8"
            ],
            [
             0.3333333333333333,
             "#9c179e"
            ],
            [
             0.4444444444444444,
             "#bd3786"
            ],
            [
             0.5555555555555556,
             "#d8576b"
            ],
            [
             0.6666666666666666,
             "#ed7953"
            ],
            [
             0.7777777777777778,
             "#fb9f3a"
            ],
            [
             0.8888888888888888,
             "#fdca26"
            ],
            [
             1,
             "#f0f921"
            ]
           ]
          },
          "colorway": [
           "#636efa",
           "#EF553B",
           "#00cc96",
           "#ab63fa",
           "#FFA15A",
           "#19d3f3",
           "#FF6692",
           "#B6E880",
           "#FF97FF",
           "#FECB52"
          ],
          "font": {
           "color": "#2a3f5f"
          },
          "geo": {
           "bgcolor": "white",
           "lakecolor": "white",
           "landcolor": "#E5ECF6",
           "showlakes": true,
           "showland": true,
           "subunitcolor": "white"
          },
          "hoverlabel": {
           "align": "left"
          },
          "hovermode": "closest",
          "mapbox": {
           "style": "light"
          },
          "paper_bgcolor": "white",
          "plot_bgcolor": "#E5ECF6",
          "polar": {
           "angularaxis": {
            "gridcolor": "white",
            "linecolor": "white",
            "ticks": ""
           },
           "bgcolor": "#E5ECF6",
           "radialaxis": {
            "gridcolor": "white",
            "linecolor": "white",
            "ticks": ""
           }
          },
          "scene": {
           "xaxis": {
            "backgroundcolor": "#E5ECF6",
            "gridcolor": "white",
            "gridwidth": 2,
            "linecolor": "white",
            "showbackground": true,
            "ticks": "",
            "zerolinecolor": "white"
           },
           "yaxis": {
            "backgroundcolor": "#E5ECF6",
            "gridcolor": "white",
            "gridwidth": 2,
            "linecolor": "white",
            "showbackground": true,
            "ticks": "",
            "zerolinecolor": "white"
           },
           "zaxis": {
            "backgroundcolor": "#E5ECF6",
            "gridcolor": "white",
            "gridwidth": 2,
            "linecolor": "white",
            "showbackground": true,
            "ticks": "",
            "zerolinecolor": "white"
           }
          },
          "shapedefaults": {
           "line": {
            "color": "#2a3f5f"
           }
          },
          "ternary": {
           "aaxis": {
            "gridcolor": "white",
            "linecolor": "white",
            "ticks": ""
           },
           "baxis": {
            "gridcolor": "white",
            "linecolor": "white",
            "ticks": ""
           },
           "bgcolor": "#E5ECF6",
           "caxis": {
            "gridcolor": "white",
            "linecolor": "white",
            "ticks": ""
           }
          },
          "title": {
           "x": 0.05
          },
          "xaxis": {
           "automargin": true,
           "gridcolor": "white",
           "linecolor": "white",
           "ticks": "",
           "title": {
            "standoff": 15
           },
           "zerolinecolor": "white",
           "zerolinewidth": 2
          },
          "yaxis": {
           "automargin": true,
           "gridcolor": "white",
           "linecolor": "white",
           "ticks": "",
           "title": {
            "standoff": 15
           },
           "zerolinecolor": "white",
           "zerolinewidth": 2
          }
         }
        },
        "xaxis": {
         "anchor": "y",
         "domain": [
          0,
          0.45
         ]
        },
        "xaxis2": {
         "anchor": "y2",
         "domain": [
          0.55,
          1
         ],
         "title": {
          "text": "body_weight (kg)"
         }
        },
        "yaxis": {
         "anchor": "x",
         "domain": [
          0,
          1
         ]
        },
        "yaxis2": {
         "anchor": "x2",
         "domain": [
          0,
          1
         ],
         "title": {
          "text": "brain_weight (g)"
         }
        }
       }
      }
     },
     "metadata": {},
     "output_type": "display_data"
    },
    {
     "data": {
      "application/vnd.plotly.v1+json": {
       "config": {
        "plotlyServerURL": "https://plot.ly"
       },
       "data": [
        {
         "hoverinfo": "text",
         "hovertext": [
          "Cow"
         ],
         "legendgroup": "1",
         "legendgrouptitle": {
          "text": "Normalized"
         },
         "mode": "markers",
         "name": "Input - Cow",
         "type": "scatter",
         "x": [
          0.7397240889561999
         ],
         "xaxis": "x",
         "y": [
          0.6729103002762851
         ],
         "yaxis": "y"
        },
        {
         "hoverinfo": "text",
         "hovertext": [
          "Pig"
         ],
         "legendgroup": "1",
         "legendgrouptitle": {
          "text": "Normalized"
         },
         "mode": "markers",
         "name": "Nearest - Pig",
         "type": "scatter",
         "x": [
          0.7295372041400852
         ],
         "xaxis": "x",
         "y": [
          0.6839411288813299
         ],
         "yaxis": "y"
        },
        {
         "hoverinfo": "text",
         "hovertext": [
          "Mountain Beaver",
          "Grey Wolf",
          "Goat",
          "Guinea Pig",
          "Diplodocus",
          "Asian Elephant",
          "Donkey",
          "Horse",
          "Potar Monkey",
          "Cat",
          "Giraffe",
          "Gorilla",
          "Human",
          "African Elephant",
          "Triceratops",
          "Rhesus Monkey",
          "Kangaroo",
          "Hamster",
          "Mouse",
          "Rabbit",
          "Sheep",
          "Jaguar",
          "Chimpanzee",
          "Brachiosaurus",
          "Rat",
          "Mole"
         ],
         "legendgroup": "1",
         "legendgrouptitle": {
          "text": "Normalized"
         },
         "mode": "markers",
         "name": "Others",
         "type": "scatter",
         "x": [
          0.16439898730535732,
          0.29087168290690235,
          0.23385256892521522,
          0.18579843543946484,
          0.9999908687056845,
          0.48415738227942323,
          0.407735203663776,
          0.6225069340572448,
          0.086629616364842,
          0.12784840929729985,
          0.6140209678835581,
          0.4542215971428217,
          0.04691797138424088,
          0.7587734313656674,
          0.9999722736746692,
          0.03796144464353891,
          0.52999894000318,
          0.11914522061843064,
          0.057405180370874664,
          0.20233796586463235,
          0.3023042179217266,
          0.5372230615427163,
          0.11772117109312494,
          0.9999984231606855,
          0.1457937895994972,
          0.04063308150291378
         ],
         "xaxis": "x",
         "y": [
          0.9863939238321437,
          0.9567620728702129,
          0.9722720689226229,
          0.982587879727939,
          0.0042734652508789935,
          0.874980930754686,
          0.9131002155805567,
          0.7826142836996071,
          0.996240588195683,
          0.9917937206093564,
          0.7892897129694131,
          0.8908887364250512,
          0.998898745599967,
          0.6513546498287786,
          0.007446602038002856,
          0.9992792045872743,
          0.847998304005088,
          0.9928768384869221,
          0.9983509629717333,
          0.9793157547848206,
          0.9532114979513903,
          0.8434402066220645,
          0.9930466886689987,
          0.00177585926871639,
          0.9893150008537308,
          0.999174135317552
         ],
         "yaxis": "y"
        },
        {
         "hoverinfo": "text",
         "hovertext": [
          "Cow"
         ],
         "legendgroup": "2",
         "legendgrouptitle": {
          "text": "Raw"
         },
         "mode": "markers",
         "name": "Input - Cow",
         "type": "scatter",
         "x": [
          465
         ],
         "xaxis": "x2",
         "y": [
          423
         ],
         "yaxis": "y2"
        },
        {
         "hoverinfo": "text",
         "hovertext": [
          "Pig"
         ],
         "legendgroup": "2",
         "legendgrouptitle": {
          "text": "Raw"
         },
         "mode": "markers",
         "name": "Nearest - Pig",
         "type": "scatter",
         "x": [
          192
         ],
         "xaxis": "x2",
         "y": [
          180
         ],
         "yaxis": "y2"
        },
        {
         "hoverinfo": "text",
         "hovertext": [
          "Mountain Beaver",
          "Grey Wolf",
          "Goat",
          "Guinea Pig",
          "Diplodocus",
          "Asian Elephant",
          "Donkey",
          "Horse",
          "Potar Monkey",
          "Cat",
          "Giraffe",
          "Gorilla",
          "Human",
          "African Elephant",
          "Triceratops",
          "Rhesus Monkey",
          "Kangaroo",
          "Hamster",
          "Mouse",
          "Rabbit",
          "Sheep",
          "Jaguar",
          "Chimpanzee",
          "Brachiosaurus",
          "Rat",
          "Mole"
         ],
         "legendgroup": "2",
         "legendgrouptitle": {
          "text": "Raw"
         },
         "mode": "markers",
         "name": "Others",
         "type": "scatter",
         "x": [
          1.35,
          36.33,
          27.66,
          1.04,
          11700,
          2547,
          187.1,
          521,
          10,
          3.3,
          529,
          207,
          62,
          6654,
          9400,
          6.8,
          35,
          0.12,
          0.023,
          2.5,
          55.5,
          100,
          52.16,
          87000,
          0.28,
          0.122
         ],
         "xaxis": "x2",
         "y": [
          8.1,
          119.5,
          115,
          5.5,
          50,
          4603,
          419,
          655,
          115,
          25.6,
          680,
          406,
          1320,
          5712,
          70,
          179,
          56,
          1,
          0.4,
          12.1,
          175,
          157,
          440,
          154.5,
          1.9,
          3
         ],
         "yaxis": "y2"
        }
       ],
       "layout": {
        "annotations": [
         {
          "font": {
           "size": 16
          },
          "showarrow": false,
          "text": "Normalized Values",
          "x": 0.225,
          "xanchor": "center",
          "xref": "paper",
          "y": 1,
          "yanchor": "bottom",
          "yref": "paper"
         },
         {
          "font": {
           "size": 16
          },
          "showarrow": false,
          "text": "Raw Values",
          "x": 0.775,
          "xanchor": "center",
          "xref": "paper",
          "y": 1,
          "yanchor": "bottom",
          "yref": "paper"
         }
        ],
        "template": {
         "data": {
          "bar": [
           {
            "error_x": {
             "color": "#2a3f5f"
            },
            "error_y": {
             "color": "#2a3f5f"
            },
            "marker": {
             "line": {
              "color": "#E5ECF6",
              "width": 0.5
             },
             "pattern": {
              "fillmode": "overlay",
              "size": 10,
              "solidity": 0.2
             }
            },
            "type": "bar"
           }
          ],
          "barpolar": [
           {
            "marker": {
             "line": {
              "color": "#E5ECF6",
              "width": 0.5
             },
             "pattern": {
              "fillmode": "overlay",
              "size": 10,
              "solidity": 0.2
             }
            },
            "type": "barpolar"
           }
          ],
          "carpet": [
           {
            "aaxis": {
             "endlinecolor": "#2a3f5f",
             "gridcolor": "white",
             "linecolor": "white",
             "minorgridcolor": "white",
             "startlinecolor": "#2a3f5f"
            },
            "baxis": {
             "endlinecolor": "#2a3f5f",
             "gridcolor": "white",
             "linecolor": "white",
             "minorgridcolor": "white",
             "startlinecolor": "#2a3f5f"
            },
            "type": "carpet"
           }
          ],
          "choropleth": [
           {
            "colorbar": {
             "outlinewidth": 0,
             "ticks": ""
            },
            "type": "choropleth"
           }
          ],
          "contour": [
           {
            "colorbar": {
             "outlinewidth": 0,
             "ticks": ""
            },
            "colorscale": [
             [
              0,
              "#0d0887"
             ],
             [
              0.1111111111111111,
              "#46039f"
             ],
             [
              0.2222222222222222,
              "#7201a8"
             ],
             [
              0.3333333333333333,
              "#9c179e"
             ],
             [
              0.4444444444444444,
              "#bd3786"
             ],
             [
              0.5555555555555556,
              "#d8576b"
             ],
             [
              0.6666666666666666,
              "#ed7953"
             ],
             [
              0.7777777777777778,
              "#fb9f3a"
             ],
             [
              0.8888888888888888,
              "#fdca26"
             ],
             [
              1,
              "#f0f921"
             ]
            ],
            "type": "contour"
           }
          ],
          "contourcarpet": [
           {
            "colorbar": {
             "outlinewidth": 0,
             "ticks": ""
            },
            "type": "contourcarpet"
           }
          ],
          "heatmap": [
           {
            "colorbar": {
             "outlinewidth": 0,
             "ticks": ""
            },
            "colorscale": [
             [
              0,
              "#0d0887"
             ],
             [
              0.1111111111111111,
              "#46039f"
             ],
             [
              0.2222222222222222,
              "#7201a8"
             ],
             [
              0.3333333333333333,
              "#9c179e"
             ],
             [
              0.4444444444444444,
              "#bd3786"
             ],
             [
              0.5555555555555556,
              "#d8576b"
             ],
             [
              0.6666666666666666,
              "#ed7953"
             ],
             [
              0.7777777777777778,
              "#fb9f3a"
             ],
             [
              0.8888888888888888,
              "#fdca26"
             ],
             [
              1,
              "#f0f921"
             ]
            ],
            "type": "heatmap"
           }
          ],
          "heatmapgl": [
           {
            "colorbar": {
             "outlinewidth": 0,
             "ticks": ""
            },
            "colorscale": [
             [
              0,
              "#0d0887"
             ],
             [
              0.1111111111111111,
              "#46039f"
             ],
             [
              0.2222222222222222,
              "#7201a8"
             ],
             [
              0.3333333333333333,
              "#9c179e"
             ],
             [
              0.4444444444444444,
              "#bd3786"
             ],
             [
              0.5555555555555556,
              "#d8576b"
             ],
             [
              0.6666666666666666,
              "#ed7953"
             ],
             [
              0.7777777777777778,
              "#fb9f3a"
             ],
             [
              0.8888888888888888,
              "#fdca26"
             ],
             [
              1,
              "#f0f921"
             ]
            ],
            "type": "heatmapgl"
           }
          ],
          "histogram": [
           {
            "marker": {
             "pattern": {
              "fillmode": "overlay",
              "size": 10,
              "solidity": 0.2
             }
            },
            "type": "histogram"
           }
          ],
          "histogram2d": [
           {
            "colorbar": {
             "outlinewidth": 0,
             "ticks": ""
            },
            "colorscale": [
             [
              0,
              "#0d0887"
             ],
             [
              0.1111111111111111,
              "#46039f"
             ],
             [
              0.2222222222222222,
              "#7201a8"
             ],
             [
              0.3333333333333333,
              "#9c179e"
             ],
             [
              0.4444444444444444,
              "#bd3786"
             ],
             [
              0.5555555555555556,
              "#d8576b"
             ],
             [
              0.6666666666666666,
              "#ed7953"
             ],
             [
              0.7777777777777778,
              "#fb9f3a"
             ],
             [
              0.8888888888888888,
              "#fdca26"
             ],
             [
              1,
              "#f0f921"
             ]
            ],
            "type": "histogram2d"
           }
          ],
          "histogram2dcontour": [
           {
            "colorbar": {
             "outlinewidth": 0,
             "ticks": ""
            },
            "colorscale": [
             [
              0,
              "#0d0887"
             ],
             [
              0.1111111111111111,
              "#46039f"
             ],
             [
              0.2222222222222222,
              "#7201a8"
             ],
             [
              0.3333333333333333,
              "#9c179e"
             ],
             [
              0.4444444444444444,
              "#bd3786"
             ],
             [
              0.5555555555555556,
              "#d8576b"
             ],
             [
              0.6666666666666666,
              "#ed7953"
             ],
             [
              0.7777777777777778,
              "#fb9f3a"
             ],
             [
              0.8888888888888888,
              "#fdca26"
             ],
             [
              1,
              "#f0f921"
             ]
            ],
            "type": "histogram2dcontour"
           }
          ],
          "mesh3d": [
           {
            "colorbar": {
             "outlinewidth": 0,
             "ticks": ""
            },
            "type": "mesh3d"
           }
          ],
          "parcoords": [
           {
            "line": {
             "colorbar": {
              "outlinewidth": 0,
              "ticks": ""
             }
            },
            "type": "parcoords"
           }
          ],
          "pie": [
           {
            "automargin": true,
            "type": "pie"
           }
          ],
          "scatter": [
           {
            "fillpattern": {
             "fillmode": "overlay",
             "size": 10,
             "solidity": 0.2
            },
            "type": "scatter"
           }
          ],
          "scatter3d": [
           {
            "line": {
             "colorbar": {
              "outlinewidth": 0,
              "ticks": ""
             }
            },
            "marker": {
             "colorbar": {
              "outlinewidth": 0,
              "ticks": ""
             }
            },
            "type": "scatter3d"
           }
          ],
          "scattercarpet": [
           {
            "marker": {
             "colorbar": {
              "outlinewidth": 0,
              "ticks": ""
             }
            },
            "type": "scattercarpet"
           }
          ],
          "scattergeo": [
           {
            "marker": {
             "colorbar": {
              "outlinewidth": 0,
              "ticks": ""
             }
            },
            "type": "scattergeo"
           }
          ],
          "scattergl": [
           {
            "marker": {
             "colorbar": {
              "outlinewidth": 0,
              "ticks": ""
             }
            },
            "type": "scattergl"
           }
          ],
          "scattermapbox": [
           {
            "marker": {
             "colorbar": {
              "outlinewidth": 0,
              "ticks": ""
             }
            },
            "type": "scattermapbox"
           }
          ],
          "scatterpolar": [
           {
            "marker": {
             "colorbar": {
              "outlinewidth": 0,
              "ticks": ""
             }
            },
            "type": "scatterpolar"
           }
          ],
          "scatterpolargl": [
           {
            "marker": {
             "colorbar": {
              "outlinewidth": 0,
              "ticks": ""
             }
            },
            "type": "scatterpolargl"
           }
          ],
          "scatterternary": [
           {
            "marker": {
             "colorbar": {
              "outlinewidth": 0,
              "ticks": ""
             }
            },
            "type": "scatterternary"
           }
          ],
          "surface": [
           {
            "colorbar": {
             "outlinewidth": 0,
             "ticks": ""
            },
            "colorscale": [
             [
              0,
              "#0d0887"
             ],
             [
              0.1111111111111111,
              "#46039f"
             ],
             [
              0.2222222222222222,
              "#7201a8"
             ],
             [
              0.3333333333333333,
              "#9c179e"
             ],
             [
              0.4444444444444444,
              "#bd3786"
             ],
             [
              0.5555555555555556,
              "#d8576b"
             ],
             [
              0.6666666666666666,
              "#ed7953"
             ],
             [
              0.7777777777777778,
              "#fb9f3a"
             ],
             [
              0.8888888888888888,
              "#fdca26"
             ],
             [
              1,
              "#f0f921"
             ]
            ],
            "type": "surface"
           }
          ],
          "table": [
           {
            "cells": {
             "fill": {
              "color": "#EBF0F8"
             },
             "line": {
              "color": "white"
             }
            },
            "header": {
             "fill": {
              "color": "#C8D4E3"
             },
             "line": {
              "color": "white"
             }
            },
            "type": "table"
           }
          ]
         },
         "layout": {
          "annotationdefaults": {
           "arrowcolor": "#2a3f5f",
           "arrowhead": 0,
           "arrowwidth": 1
          },
          "autotypenumbers": "strict",
          "coloraxis": {
           "colorbar": {
            "outlinewidth": 0,
            "ticks": ""
           }
          },
          "colorscale": {
           "diverging": [
            [
             0,
             "#8e0152"
            ],
            [
             0.1,
             "#c51b7d"
            ],
            [
             0.2,
             "#de77ae"
            ],
            [
             0.3,
             "#f1b6da"
            ],
            [
             0.4,
             "#fde0ef"
            ],
            [
             0.5,
             "#f7f7f7"
            ],
            [
             0.6,
             "#e6f5d0"
            ],
            [
             0.7,
             "#b8e186"
            ],
            [
             0.8,
             "#7fbc41"
            ],
            [
             0.9,
             "#4d9221"
            ],
            [
             1,
             "#276419"
            ]
           ],
           "sequential": [
            [
             0,
             "#0d0887"
            ],
            [
             0.1111111111111111,
             "#46039f"
            ],
            [
             0.2222222222222222,
             "#7201a8"
            ],
            [
             0.3333333333333333,
             "#9c179e"
            ],
            [
             0.4444444444444444,
             "#bd3786"
            ],
            [
             0.5555555555555556,
             "#d8576b"
            ],
            [
             0.6666666666666666,
             "#ed7953"
            ],
            [
             0.7777777777777778,
             "#fb9f3a"
            ],
            [
             0.8888888888888888,
             "#fdca26"
            ],
            [
             1,
             "#f0f921"
            ]
           ],
           "sequentialminus": [
            [
             0,
             "#0d0887"
            ],
            [
             0.1111111111111111,
             "#46039f"
            ],
            [
             0.2222222222222222,
             "#7201a8"
            ],
            [
             0.3333333333333333,
             "#9c179e"
            ],
            [
             0.4444444444444444,
             "#bd3786"
            ],
            [
             0.5555555555555556,
             "#d8576b"
            ],
            [
             0.6666666666666666,
             "#ed7953"
            ],
            [
             0.7777777777777778,
             "#fb9f3a"
            ],
            [
             0.8888888888888888,
             "#fdca26"
            ],
            [
             1,
             "#f0f921"
            ]
           ]
          },
          "colorway": [
           "#636efa",
           "#EF553B",
           "#00cc96",
           "#ab63fa",
           "#FFA15A",
           "#19d3f3",
           "#FF6692",
           "#B6E880",
           "#FF97FF",
           "#FECB52"
          ],
          "font": {
           "color": "#2a3f5f"
          },
          "geo": {
           "bgcolor": "white",
           "lakecolor": "white",
           "landcolor": "#E5ECF6",
           "showlakes": true,
           "showland": true,
           "subunitcolor": "white"
          },
          "hoverlabel": {
           "align": "left"
          },
          "hovermode": "closest",
          "mapbox": {
           "style": "light"
          },
          "paper_bgcolor": "white",
          "plot_bgcolor": "#E5ECF6",
          "polar": {
           "angularaxis": {
            "gridcolor": "white",
            "linecolor": "white",
            "ticks": ""
           },
           "bgcolor": "#E5ECF6",
           "radialaxis": {
            "gridcolor": "white",
            "linecolor": "white",
            "ticks": ""
           }
          },
          "scene": {
           "xaxis": {
            "backgroundcolor": "#E5ECF6",
            "gridcolor": "white",
            "gridwidth": 2,
            "linecolor": "white",
            "showbackground": true,
            "ticks": "",
            "zerolinecolor": "white"
           },
           "yaxis": {
            "backgroundcolor": "#E5ECF6",
            "gridcolor": "white",
            "gridwidth": 2,
            "linecolor": "white",
            "showbackground": true,
            "ticks": "",
            "zerolinecolor": "white"
           },
           "zaxis": {
            "backgroundcolor": "#E5ECF6",
            "gridcolor": "white",
            "gridwidth": 2,
            "linecolor": "white",
            "showbackground": true,
            "ticks": "",
            "zerolinecolor": "white"
           }
          },
          "shapedefaults": {
           "line": {
            "color": "#2a3f5f"
           }
          },
          "ternary": {
           "aaxis": {
            "gridcolor": "white",
            "linecolor": "white",
            "ticks": ""
           },
           "baxis": {
            "gridcolor": "white",
            "linecolor": "white",
            "ticks": ""
           },
           "bgcolor": "#E5ECF6",
           "caxis": {
            "gridcolor": "white",
            "linecolor": "white",
            "ticks": ""
           }
          },
          "title": {
           "x": 0.05
          },
          "xaxis": {
           "automargin": true,
           "gridcolor": "white",
           "linecolor": "white",
           "ticks": "",
           "title": {
            "standoff": 15
           },
           "zerolinecolor": "white",
           "zerolinewidth": 2
          },
          "yaxis": {
           "automargin": true,
           "gridcolor": "white",
           "linecolor": "white",
           "ticks": "",
           "title": {
            "standoff": 15
           },
           "zerolinecolor": "white",
           "zerolinewidth": 2
          }
         }
        },
        "xaxis": {
         "anchor": "y",
         "domain": [
          0,
          0.45
         ]
        },
        "xaxis2": {
         "anchor": "y2",
         "domain": [
          0.55,
          1
         ],
         "title": {
          "text": "body_weight (kg)"
         }
        },
        "yaxis": {
         "anchor": "x",
         "domain": [
          0,
          1
         ]
        },
        "yaxis2": {
         "anchor": "x2",
         "domain": [
          0,
          1
         ],
         "title": {
          "text": "brain_weight (g)"
         }
        }
       }
      }
     },
     "metadata": {},
     "output_type": "display_data"
    },
    {
     "data": {
      "application/vnd.plotly.v1+json": {
       "config": {
        "plotlyServerURL": "https://plot.ly"
       },
       "data": [
        {
         "hoverinfo": "text",
         "hovertext": [
          "Cow"
         ],
         "legendgroup": "1",
         "legendgrouptitle": {
          "text": "Normalized"
         },
         "mode": "markers",
         "name": "Input - Cow",
         "type": "scatter",
         "x": [
          0.7397240889561999
         ],
         "xaxis": "x",
         "y": [
          0.6729103002762851
         ],
         "yaxis": "y"
        },
        {
         "hoverinfo": "text",
         "hovertext": [
          "Pig"
         ],
         "legendgroup": "1",
         "legendgrouptitle": {
          "text": "Normalized"
         },
         "mode": "markers",
         "name": "Nearest - Pig",
         "type": "scatter",
         "x": [
          0.7295372041400852
         ],
         "xaxis": "x",
         "y": [
          0.6839411288813299
         ],
         "yaxis": "y"
        },
        {
         "hoverinfo": "text",
         "hovertext": [
          "Mountain Beaver",
          "Grey Wolf",
          "Goat",
          "Guinea Pig",
          "Diplodocus",
          "Asian Elephant",
          "Donkey",
          "Horse",
          "Potar Monkey",
          "Cat",
          "Giraffe",
          "Gorilla",
          "Human",
          "African Elephant",
          "Triceratops",
          "Rhesus Monkey",
          "Kangaroo",
          "Hamster",
          "Mouse",
          "Rabbit",
          "Sheep",
          "Jaguar",
          "Chimpanzee",
          "Brachiosaurus",
          "Rat",
          "Mole"
         ],
         "legendgroup": "1",
         "legendgrouptitle": {
          "text": "Normalized"
         },
         "mode": "markers",
         "name": "Others",
         "type": "scatter",
         "x": [
          0.16439898730535732,
          0.29087168290690235,
          0.23385256892521522,
          0.18579843543946484,
          0.9999908687056845,
          0.48415738227942323,
          0.407735203663776,
          0.6225069340572448,
          0.086629616364842,
          0.12784840929729985,
          0.6140209678835581,
          0.4542215971428217,
          0.04691797138424088,
          0.7587734313656674,
          0.9999722736746692,
          0.03796144464353891,
          0.52999894000318,
          0.11914522061843064,
          0.057405180370874664,
          0.20233796586463235,
          0.3023042179217266,
          0.5372230615427163,
          0.11772117109312494,
          0.9999984231606855,
          0.1457937895994972,
          0.04063308150291378
         ],
         "xaxis": "x",
         "y": [
          0.9863939238321437,
          0.9567620728702129,
          0.9722720689226229,
          0.982587879727939,
          0.0042734652508789935,
          0.874980930754686,
          0.9131002155805567,
          0.7826142836996071,
          0.996240588195683,
          0.9917937206093564,
          0.7892897129694131,
          0.8908887364250512,
          0.998898745599967,
          0.6513546498287786,
          0.007446602038002856,
          0.9992792045872743,
          0.847998304005088,
          0.9928768384869221,
          0.9983509629717333,
          0.9793157547848206,
          0.9532114979513903,
          0.8434402066220645,
          0.9930466886689987,
          0.00177585926871639,
          0.9893150008537308,
          0.999174135317552
         ],
         "yaxis": "y"
        },
        {
         "hoverinfo": "text",
         "hovertext": [
          "Cow"
         ],
         "legendgroup": "2",
         "legendgrouptitle": {
          "text": "Raw"
         },
         "mode": "markers",
         "name": "Input - Cow",
         "type": "scatter",
         "x": [
          465
         ],
         "xaxis": "x2",
         "y": [
          423
         ],
         "yaxis": "y2"
        },
        {
         "hoverinfo": "text",
         "hovertext": [
          "Brachiosaurus"
         ],
         "legendgroup": "2",
         "legendgrouptitle": {
          "text": "Raw"
         },
         "mode": "markers",
         "name": "Nearest - Brachiosaurus",
         "type": "scatter",
         "x": [
          87000
         ],
         "xaxis": "x2",
         "y": [
          154.5
         ],
         "yaxis": "y2"
        },
        {
         "hoverinfo": "text",
         "hovertext": [
          "Mountain Beaver",
          "Grey Wolf",
          "Goat",
          "Guinea Pig",
          "Diplodocus",
          "Asian Elephant",
          "Donkey",
          "Horse",
          "Potar Monkey",
          "Cat",
          "Giraffe",
          "Gorilla",
          "Human",
          "African Elephant",
          "Triceratops",
          "Rhesus Monkey",
          "Kangaroo",
          "Hamster",
          "Mouse",
          "Rabbit",
          "Sheep",
          "Jaguar",
          "Chimpanzee",
          "Rat",
          "Mole",
          "Pig"
         ],
         "legendgroup": "2",
         "legendgrouptitle": {
          "text": "Raw"
         },
         "mode": "markers",
         "name": "Others",
         "type": "scatter",
         "x": [
          1.35,
          36.33,
          27.66,
          1.04,
          11700,
          2547,
          187.1,
          521,
          10,
          3.3,
          529,
          207,
          62,
          6654,
          9400,
          6.8,
          35,
          0.12,
          0.023,
          2.5,
          55.5,
          100,
          52.16,
          0.28,
          0.122,
          192
         ],
         "xaxis": "x2",
         "y": [
          8.1,
          119.5,
          115,
          5.5,
          50,
          4603,
          419,
          655,
          115,
          25.6,
          680,
          406,
          1320,
          5712,
          70,
          179,
          56,
          1,
          0.4,
          12.1,
          175,
          157,
          440,
          1.9,
          3,
          180
         ],
         "yaxis": "y2"
        }
       ],
       "layout": {
        "annotations": [
         {
          "font": {
           "size": 16
          },
          "showarrow": false,
          "text": "Normalized Values",
          "x": 0.225,
          "xanchor": "center",
          "xref": "paper",
          "y": 1,
          "yanchor": "bottom",
          "yref": "paper"
         },
         {
          "font": {
           "size": 16
          },
          "showarrow": false,
          "text": "Raw Values",
          "x": 0.775,
          "xanchor": "center",
          "xref": "paper",
          "y": 1,
          "yanchor": "bottom",
          "yref": "paper"
         }
        ],
        "template": {
         "data": {
          "bar": [
           {
            "error_x": {
             "color": "#2a3f5f"
            },
            "error_y": {
             "color": "#2a3f5f"
            },
            "marker": {
             "line": {
              "color": "#E5ECF6",
              "width": 0.5
             },
             "pattern": {
              "fillmode": "overlay",
              "size": 10,
              "solidity": 0.2
             }
            },
            "type": "bar"
           }
          ],
          "barpolar": [
           {
            "marker": {
             "line": {
              "color": "#E5ECF6",
              "width": 0.5
             },
             "pattern": {
              "fillmode": "overlay",
              "size": 10,
              "solidity": 0.2
             }
            },
            "type": "barpolar"
           }
          ],
          "carpet": [
           {
            "aaxis": {
             "endlinecolor": "#2a3f5f",
             "gridcolor": "white",
             "linecolor": "white",
             "minorgridcolor": "white",
             "startlinecolor": "#2a3f5f"
            },
            "baxis": {
             "endlinecolor": "#2a3f5f",
             "gridcolor": "white",
             "linecolor": "white",
             "minorgridcolor": "white",
             "startlinecolor": "#2a3f5f"
            },
            "type": "carpet"
           }
          ],
          "choropleth": [
           {
            "colorbar": {
             "outlinewidth": 0,
             "ticks": ""
            },
            "type": "choropleth"
           }
          ],
          "contour": [
           {
            "colorbar": {
             "outlinewidth": 0,
             "ticks": ""
            },
            "colorscale": [
             [
              0,
              "#0d0887"
             ],
             [
              0.1111111111111111,
              "#46039f"
             ],
             [
              0.2222222222222222,
              "#7201a8"
             ],
             [
              0.3333333333333333,
              "#9c179e"
             ],
             [
              0.4444444444444444,
              "#bd3786"
             ],
             [
              0.5555555555555556,
              "#d8576b"
             ],
             [
              0.6666666666666666,
              "#ed7953"
             ],
             [
              0.7777777777777778,
              "#fb9f3a"
             ],
             [
              0.8888888888888888,
              "#fdca26"
             ],
             [
              1,
              "#f0f921"
             ]
            ],
            "type": "contour"
           }
          ],
          "contourcarpet": [
           {
            "colorbar": {
             "outlinewidth": 0,
             "ticks": ""
            },
            "type": "contourcarpet"
           }
          ],
          "heatmap": [
           {
            "colorbar": {
             "outlinewidth": 0,
             "ticks": ""
            },
            "colorscale": [
             [
              0,
              "#0d0887"
             ],
             [
              0.1111111111111111,
              "#46039f"
             ],
             [
              0.2222222222222222,
              "#7201a8"
             ],
             [
              0.3333333333333333,
              "#9c179e"
             ],
             [
              0.4444444444444444,
              "#bd3786"
             ],
             [
              0.5555555555555556,
              "#d8576b"
             ],
             [
              0.6666666666666666,
              "#ed7953"
             ],
             [
              0.7777777777777778,
              "#fb9f3a"
             ],
             [
              0.8888888888888888,
              "#fdca26"
             ],
             [
              1,
              "#f0f921"
             ]
            ],
            "type": "heatmap"
           }
          ],
          "heatmapgl": [
           {
            "colorbar": {
             "outlinewidth": 0,
             "ticks": ""
            },
            "colorscale": [
             [
              0,
              "#0d0887"
             ],
             [
              0.1111111111111111,
              "#46039f"
             ],
             [
              0.2222222222222222,
              "#7201a8"
             ],
             [
              0.3333333333333333,
              "#9c179e"
             ],
             [
              0.4444444444444444,
              "#bd3786"
             ],
             [
              0.5555555555555556,
              "#d8576b"
             ],
             [
              0.6666666666666666,
              "#ed7953"
             ],
             [
              0.7777777777777778,
              "#fb9f3a"
             ],
             [
              0.8888888888888888,
              "#fdca26"
             ],
             [
              1,
              "#f0f921"
             ]
            ],
            "type": "heatmapgl"
           }
          ],
          "histogram": [
           {
            "marker": {
             "pattern": {
              "fillmode": "overlay",
              "size": 10,
              "solidity": 0.2
             }
            },
            "type": "histogram"
           }
          ],
          "histogram2d": [
           {
            "colorbar": {
             "outlinewidth": 0,
             "ticks": ""
            },
            "colorscale": [
             [
              0,
              "#0d0887"
             ],
             [
              0.1111111111111111,
              "#46039f"
             ],
             [
              0.2222222222222222,
              "#7201a8"
             ],
             [
              0.3333333333333333,
              "#9c179e"
             ],
             [
              0.4444444444444444,
              "#bd3786"
             ],
             [
              0.5555555555555556,
              "#d8576b"
             ],
             [
              0.6666666666666666,
              "#ed7953"
             ],
             [
              0.7777777777777778,
              "#fb9f3a"
             ],
             [
              0.8888888888888888,
              "#fdca26"
             ],
             [
              1,
              "#f0f921"
             ]
            ],
            "type": "histogram2d"
           }
          ],
          "histogram2dcontour": [
           {
            "colorbar": {
             "outlinewidth": 0,
             "ticks": ""
            },
            "colorscale": [
             [
              0,
              "#0d0887"
             ],
             [
              0.1111111111111111,
              "#46039f"
             ],
             [
              0.2222222222222222,
              "#7201a8"
             ],
             [
              0.3333333333333333,
              "#9c179e"
             ],
             [
              0.4444444444444444,
              "#bd3786"
             ],
             [
              0.5555555555555556,
              "#d8576b"
             ],
             [
              0.6666666666666666,
              "#ed7953"
             ],
             [
              0.7777777777777778,
              "#fb9f3a"
             ],
             [
              0.8888888888888888,
              "#fdca26"
             ],
             [
              1,
              "#f0f921"
             ]
            ],
            "type": "histogram2dcontour"
           }
          ],
          "mesh3d": [
           {
            "colorbar": {
             "outlinewidth": 0,
             "ticks": ""
            },
            "type": "mesh3d"
           }
          ],
          "parcoords": [
           {
            "line": {
             "colorbar": {
              "outlinewidth": 0,
              "ticks": ""
             }
            },
            "type": "parcoords"
           }
          ],
          "pie": [
           {
            "automargin": true,
            "type": "pie"
           }
          ],
          "scatter": [
           {
            "fillpattern": {
             "fillmode": "overlay",
             "size": 10,
             "solidity": 0.2
            },
            "type": "scatter"
           }
          ],
          "scatter3d": [
           {
            "line": {
             "colorbar": {
              "outlinewidth": 0,
              "ticks": ""
             }
            },
            "marker": {
             "colorbar": {
              "outlinewidth": 0,
              "ticks": ""
             }
            },
            "type": "scatter3d"
           }
          ],
          "scattercarpet": [
           {
            "marker": {
             "colorbar": {
              "outlinewidth": 0,
              "ticks": ""
             }
            },
            "type": "scattercarpet"
           }
          ],
          "scattergeo": [
           {
            "marker": {
             "colorbar": {
              "outlinewidth": 0,
              "ticks": ""
             }
            },
            "type": "scattergeo"
           }
          ],
          "scattergl": [
           {
            "marker": {
             "colorbar": {
              "outlinewidth": 0,
              "ticks": ""
             }
            },
            "type": "scattergl"
           }
          ],
          "scattermapbox": [
           {
            "marker": {
             "colorbar": {
              "outlinewidth": 0,
              "ticks": ""
             }
            },
            "type": "scattermapbox"
           }
          ],
          "scatterpolar": [
           {
            "marker": {
             "colorbar": {
              "outlinewidth": 0,
              "ticks": ""
             }
            },
            "type": "scatterpolar"
           }
          ],
          "scatterpolargl": [
           {
            "marker": {
             "colorbar": {
              "outlinewidth": 0,
              "ticks": ""
             }
            },
            "type": "scatterpolargl"
           }
          ],
          "scatterternary": [
           {
            "marker": {
             "colorbar": {
              "outlinewidth": 0,
              "ticks": ""
             }
            },
            "type": "scatterternary"
           }
          ],
          "surface": [
           {
            "colorbar": {
             "outlinewidth": 0,
             "ticks": ""
            },
            "colorscale": [
             [
              0,
              "#0d0887"
             ],
             [
              0.1111111111111111,
              "#46039f"
             ],
             [
              0.2222222222222222,
              "#7201a8"
             ],
             [
              0.3333333333333333,
              "#9c179e"
             ],
             [
              0.4444444444444444,
              "#bd3786"
             ],
             [
              0.5555555555555556,
              "#d8576b"
             ],
             [
              0.6666666666666666,
              "#ed7953"
             ],
             [
              0.7777777777777778,
              "#fb9f3a"
             ],
             [
              0.8888888888888888,
              "#fdca26"
             ],
             [
              1,
              "#f0f921"
             ]
            ],
            "type": "surface"
           }
          ],
          "table": [
           {
            "cells": {
             "fill": {
              "color": "#EBF0F8"
             },
             "line": {
              "color": "white"
             }
            },
            "header": {
             "fill": {
              "color": "#C8D4E3"
             },
             "line": {
              "color": "white"
             }
            },
            "type": "table"
           }
          ]
         },
         "layout": {
          "annotationdefaults": {
           "arrowcolor": "#2a3f5f",
           "arrowhead": 0,
           "arrowwidth": 1
          },
          "autotypenumbers": "strict",
          "coloraxis": {
           "colorbar": {
            "outlinewidth": 0,
            "ticks": ""
           }
          },
          "colorscale": {
           "diverging": [
            [
             0,
             "#8e0152"
            ],
            [
             0.1,
             "#c51b7d"
            ],
            [
             0.2,
             "#de77ae"
            ],
            [
             0.3,
             "#f1b6da"
            ],
            [
             0.4,
             "#fde0ef"
            ],
            [
             0.5,
             "#f7f7f7"
            ],
            [
             0.6,
             "#e6f5d0"
            ],
            [
             0.7,
             "#b8e186"
            ],
            [
             0.8,
             "#7fbc41"
            ],
            [
             0.9,
             "#4d9221"
            ],
            [
             1,
             "#276419"
            ]
           ],
           "sequential": [
            [
             0,
             "#0d0887"
            ],
            [
             0.1111111111111111,
             "#46039f"
            ],
            [
             0.2222222222222222,
             "#7201a8"
            ],
            [
             0.3333333333333333,
             "#9c179e"
            ],
            [
             0.4444444444444444,
             "#bd3786"
            ],
            [
             0.5555555555555556,
             "#d8576b"
            ],
            [
             0.6666666666666666,
             "#ed7953"
            ],
            [
             0.7777777777777778,
             "#fb9f3a"
            ],
            [
             0.8888888888888888,
             "#fdca26"
            ],
            [
             1,
             "#f0f921"
            ]
           ],
           "sequentialminus": [
            [
             0,
             "#0d0887"
            ],
            [
             0.1111111111111111,
             "#46039f"
            ],
            [
             0.2222222222222222,
             "#7201a8"
            ],
            [
             0.3333333333333333,
             "#9c179e"
            ],
            [
             0.4444444444444444,
             "#bd3786"
            ],
            [
             0.5555555555555556,
             "#d8576b"
            ],
            [
             0.6666666666666666,
             "#ed7953"
            ],
            [
             0.7777777777777778,
             "#fb9f3a"
            ],
            [
             0.8888888888888888,
             "#fdca26"
            ],
            [
             1,
             "#f0f921"
            ]
           ]
          },
          "colorway": [
           "#636efa",
           "#EF553B",
           "#00cc96",
           "#ab63fa",
           "#FFA15A",
           "#19d3f3",
           "#FF6692",
           "#B6E880",
           "#FF97FF",
           "#FECB52"
          ],
          "font": {
           "color": "#2a3f5f"
          },
          "geo": {
           "bgcolor": "white",
           "lakecolor": "white",
           "landcolor": "#E5ECF6",
           "showlakes": true,
           "showland": true,
           "subunitcolor": "white"
          },
          "hoverlabel": {
           "align": "left"
          },
          "hovermode": "closest",
          "mapbox": {
           "style": "light"
          },
          "paper_bgcolor": "white",
          "plot_bgcolor": "#E5ECF6",
          "polar": {
           "angularaxis": {
            "gridcolor": "white",
            "linecolor": "white",
            "ticks": ""
           },
           "bgcolor": "#E5ECF6",
           "radialaxis": {
            "gridcolor": "white",
            "linecolor": "white",
            "ticks": ""
           }
          },
          "scene": {
           "xaxis": {
            "backgroundcolor": "#E5ECF6",
            "gridcolor": "white",
            "gridwidth": 2,
            "linecolor": "white",
            "showbackground": true,
            "ticks": "",
            "zerolinecolor": "white"
           },
           "yaxis": {
            "backgroundcolor": "#E5ECF6",
            "gridcolor": "white",
            "gridwidth": 2,
            "linecolor": "white",
            "showbackground": true,
            "ticks": "",
            "zerolinecolor": "white"
           },
           "zaxis": {
            "backgroundcolor": "#E5ECF6",
            "gridcolor": "white",
            "gridwidth": 2,
            "linecolor": "white",
            "showbackground": true,
            "ticks": "",
            "zerolinecolor": "white"
           }
          },
          "shapedefaults": {
           "line": {
            "color": "#2a3f5f"
           }
          },
          "ternary": {
           "aaxis": {
            "gridcolor": "white",
            "linecolor": "white",
            "ticks": ""
           },
           "baxis": {
            "gridcolor": "white",
            "linecolor": "white",
            "ticks": ""
           },
           "bgcolor": "#E5ECF6",
           "caxis": {
            "gridcolor": "white",
            "linecolor": "white",
            "ticks": ""
           }
          },
          "title": {
           "x": 0.05
          },
          "xaxis": {
           "automargin": true,
           "gridcolor": "white",
           "linecolor": "white",
           "ticks": "",
           "title": {
            "standoff": 15
           },
           "zerolinecolor": "white",
           "zerolinewidth": 2
          },
          "yaxis": {
           "automargin": true,
           "gridcolor": "white",
           "linecolor": "white",
           "ticks": "",
           "title": {
            "standoff": 15
           },
           "zerolinecolor": "white",
           "zerolinewidth": 2
          }
         }
        },
        "xaxis": {
         "anchor": "y",
         "domain": [
          0,
          0.45
         ]
        },
        "xaxis2": {
         "anchor": "y2",
         "domain": [
          0.55,
          1
         ],
         "title": {
          "text": "body_weight (kg)"
         }
        },
        "yaxis": {
         "anchor": "x",
         "domain": [
          0,
          1
         ]
        },
        "yaxis2": {
         "anchor": "x2",
         "domain": [
          0,
          1
         ],
         "title": {
          "text": "brain_weight (g)"
         }
        }
       }
      }
     },
     "metadata": {},
     "output_type": "display_data"
    }
   ],
   "source": [
    "input = {\"_id\":2,\"species\":\"Cow\",\"body_weight\":465.000,\"brain_weight\":423.000}\n",
    "\n",
    "def makeGraphData (algo,items,normalized=True):\n",
    "  graphData = []\n",
    "  for v in items:\n",
    "    graphData.append(\n",
    "      {\n",
    "        \"species\":v[\"species\"],\n",
    "        \"x\":v[\"2d\"][\"normalized\" if normalized else \"raw\"][algo][0],\n",
    "        \"y\":v[\"2d\"][\"normalized\" if normalized else \"raw\"][algo][1]\n",
    "      }\n",
    "    )\n",
    "  return graphData\n",
    "\n",
    "for i,algo in enumerate([\"euclidean\",\"cosine\",\"dotproduct\"]):\n",
    "\n",
    "  fig = make_subplots(rows=1,cols=2,subplot_titles=[\"Normalized Values\",\"Raw Values\"])\n",
    "\n",
    "  inputVector = [input['body_weight'],input['brain_weight']]\n",
    "  inputGraphDataNorm=normalize(inputVector)\n",
    "\n",
    "  results = vectorSearch(collection,inputVector,algo,normalized=True)\n",
    "  nearest = results[0]\n",
    "  nearestGraphDataNorm = makeGraphData(algo,[nearest],normalized=True)\n",
    "\n",
    "  animals = list(collection.find({'_id':{\"$nin\":[input['_id'],nearest['_id']]},\"type\":\"animal\"}))\n",
    "  otherGraphDataNorm = makeGraphData(algo,animals,normalized=True)\n",
    "\n",
    "  normTrace0=go.Scatter(hoverinfo=\"text\",hovertext=[input['species']], x=[inputGraphDataNorm[0]],y=[inputGraphDataNorm[1]],mode=\"markers\",name=\"Input - \"+input[\"species\"],legendgroup=\"1\",legendgrouptitle={\"text\":\"Normalized\"})\n",
    "  normTrace1=go.Scatter(hoverinfo=\"text\",hovertext=[d[\"species\"] for d in nearestGraphDataNorm], x=[d[\"x\"] for d in nearestGraphDataNorm],y=[d[\"y\"] for d in nearestGraphDataNorm],mode=\"markers\",name=\"Nearest - \"+nearest[\"species\"],legendgroup=\"1\",legendgrouptitle={\"text\":\"Normalized\"})\n",
    "  normTrace2=go.Scatter(hoverinfo=\"text\",hovertext=[d[\"species\"] for d in otherGraphDataNorm], x=[d[\"x\"] for d in otherGraphDataNorm],y=[d[\"y\"] for d in otherGraphDataNorm],mode=\"markers\",name=\"Others\",legendgroup=\"1\",legendgrouptitle={\"text\":\"Normalized\"})\n",
    "\n",
    "  for trace in [normTrace0,normTrace1,normTrace2]:\n",
    "    fig.add_trace(trace,row=1,col=1)\n",
    "\n",
    "  inputGraphDataRaw=inputVector\n",
    "\n",
    "  results = vectorSearch(collection,inputVector,algo,normalized=False)\n",
    "  nearest = results[0]\n",
    "  nearestGraphDataRaw = makeGraphData(algo,[nearest],normalized=False)\n",
    "  \n",
    "  animals = list(collection.find({'_id':{\"$nin\":[input['_id'],nearest['_id']]},\"type\":\"animal\"}))\n",
    "  otherGraphDataRaw = makeGraphData(algo,animals,normalized=False)\n",
    "\n",
    "  rawTrace0=go.Scatter(hoverinfo=\"text\",hovertext=[input['species']], x=[inputGraphDataRaw[0]],y=[inputGraphDataRaw[1]],mode=\"markers\",name=\"Input - \"+input[\"species\"],legendgroup=\"2\",legendgrouptitle={\"text\":\"Raw\"})\n",
    "  rawTrace1=go.Scatter(hoverinfo=\"text\",hovertext=[d[\"species\"] for d in nearestGraphDataRaw], x=[d[\"x\"] for d in nearestGraphDataRaw],y=[d[\"y\"] for d in nearestGraphDataRaw],mode=\"markers\",name=\"Nearest - \"+nearest[\"species\"],legendgroup=\"2\",legendgrouptitle={\"text\":\"Raw\"})\n",
    "  rawTrace2=go.Scatter(hoverinfo=\"text\",hovertext=[d[\"species\"] for d in otherGraphDataRaw], x=[d[\"x\"] for d in otherGraphDataRaw],y=[d[\"y\"] for d in otherGraphDataRaw],mode=\"markers\",name=\"Others\",legendgroup=\"2\",legendgrouptitle={\"text\":\"Raw\"})\n",
    "\n",
    "  for trace in [rawTrace0,rawTrace1,rawTrace2]:\n",
    "    fig.add_trace(trace,row=1,col=2)\n",
    "  \n",
    "  layout = {\n",
    "    \"xaxis2\":{\"title\":\"body_weight (kg)\"},\n",
    "    \"yaxis2\":{\"title\":\"brain_weight (g)\"}\n",
    "  }\n",
    "  # fig[\"layout\"][\"xaxis\"][\"title\"]=\"body_weight (kg)\"\n",
    "  fig.update_layout(layout)\n",
    "  fig.show()"
   ]
  },
  {
   "attachments": {},
   "cell_type": "markdown",
   "metadata": {},
   "source": [
    "# Taking the 'average' vector\n",
    "Take the average vector of a group of animals and plot it amongst them."
   ]
  },
  {
   "cell_type": "code",
   "execution_count": 16,
   "metadata": {},
   "outputs": [],
   "source": [
    "def averageVector(vectors):\n",
    "    num = len(vectors)\n",
    "    length = len(vectors[0])\n",
    "    avg = [0 for i in vectors[0]]\n",
    "    for i,v in enumerate(avg):\n",
    "        for vec in vectors:\n",
    "            v+=vec[i]\n",
    "\n",
    "        avg[i]=v/num\n",
    "\n",
    "    return avg\n",
    "            "
   ]
  },
  {
   "cell_type": "code",
   "execution_count": 17,
   "metadata": {},
   "outputs": [
    {
     "name": "stdout",
     "output_type": "stream",
     "text": [
      "[0.5828045234757206, 0.7902100952908057]\n"
     ]
    }
   ],
   "source": [
    "animals = list(collection.find({\"$and\":[{\"body_weight\":{\"$gt\":100}},{\"body_weight\":{\"$lt\":500}}]}))\n",
    "average = averageVector([a['2d']['normalized']['cosine'] for a in animals])\n",
    "\n",
    "print(average)"
   ]
  },
  {
   "cell_type": "code",
   "execution_count": 18,
   "metadata": {},
   "outputs": [
    {
     "name": "stdout",
     "output_type": "stream",
     "text": [
      "[{'species': 'Cow', 'x': 0.7397240889561999, 'y': 0.6729103002762851}, {'species': 'Donkey', 'x': 0.407735203663776, 'y': 0.9131002155805567}, {'species': 'Gorilla', 'x': 0.4542215971428217, 'y': 0.8908887364250512}, {'species': 'Pig', 'x': 0.7295372041400852, 'y': 0.6839411288813299}]\n"
     ]
    },
    {
     "data": {
      "application/vnd.plotly.v1+json": {
       "config": {
        "plotlyServerURL": "https://plot.ly"
       },
       "data": [
        {
         "hoverinfo": "text",
         "hovertext": [
          "Average"
         ],
         "mode": "markers",
         "name": "Average",
         "type": "scatter",
         "x": [
          0.5828045234757206
         ],
         "xaxis": "x",
         "y": [
          0.7902100952908057
         ],
         "yaxis": "y"
        },
        {
         "hoverinfo": "text",
         "hovertext": [
          "Cow",
          "Donkey",
          "Gorilla",
          "Pig"
         ],
         "mode": "markers",
         "name": "Animals",
         "type": "scatter",
         "x": [
          0.7397240889561999,
          0.407735203663776,
          0.4542215971428217,
          0.7295372041400852
         ],
         "xaxis": "x",
         "y": [
          0.6729103002762851,
          0.9131002155805567,
          0.8908887364250512,
          0.6839411288813299
         ],
         "yaxis": "y"
        }
       ],
       "layout": {
        "annotations": [
         {
          "font": {
           "size": 16
          },
          "showarrow": false,
          "text": "Average Animal",
          "x": 0.5,
          "xanchor": "center",
          "xref": "paper",
          "y": 1,
          "yanchor": "bottom",
          "yref": "paper"
         }
        ],
        "template": {
         "data": {
          "bar": [
           {
            "error_x": {
             "color": "#2a3f5f"
            },
            "error_y": {
             "color": "#2a3f5f"
            },
            "marker": {
             "line": {
              "color": "#E5ECF6",
              "width": 0.5
             },
             "pattern": {
              "fillmode": "overlay",
              "size": 10,
              "solidity": 0.2
             }
            },
            "type": "bar"
           }
          ],
          "barpolar": [
           {
            "marker": {
             "line": {
              "color": "#E5ECF6",
              "width": 0.5
             },
             "pattern": {
              "fillmode": "overlay",
              "size": 10,
              "solidity": 0.2
             }
            },
            "type": "barpolar"
           }
          ],
          "carpet": [
           {
            "aaxis": {
             "endlinecolor": "#2a3f5f",
             "gridcolor": "white",
             "linecolor": "white",
             "minorgridcolor": "white",
             "startlinecolor": "#2a3f5f"
            },
            "baxis": {
             "endlinecolor": "#2a3f5f",
             "gridcolor": "white",
             "linecolor": "white",
             "minorgridcolor": "white",
             "startlinecolor": "#2a3f5f"
            },
            "type": "carpet"
           }
          ],
          "choropleth": [
           {
            "colorbar": {
             "outlinewidth": 0,
             "ticks": ""
            },
            "type": "choropleth"
           }
          ],
          "contour": [
           {
            "colorbar": {
             "outlinewidth": 0,
             "ticks": ""
            },
            "colorscale": [
             [
              0,
              "#0d0887"
             ],
             [
              0.1111111111111111,
              "#46039f"
             ],
             [
              0.2222222222222222,
              "#7201a8"
             ],
             [
              0.3333333333333333,
              "#9c179e"
             ],
             [
              0.4444444444444444,
              "#bd3786"
             ],
             [
              0.5555555555555556,
              "#d8576b"
             ],
             [
              0.6666666666666666,
              "#ed7953"
             ],
             [
              0.7777777777777778,
              "#fb9f3a"
             ],
             [
              0.8888888888888888,
              "#fdca26"
             ],
             [
              1,
              "#f0f921"
             ]
            ],
            "type": "contour"
           }
          ],
          "contourcarpet": [
           {
            "colorbar": {
             "outlinewidth": 0,
             "ticks": ""
            },
            "type": "contourcarpet"
           }
          ],
          "heatmap": [
           {
            "colorbar": {
             "outlinewidth": 0,
             "ticks": ""
            },
            "colorscale": [
             [
              0,
              "#0d0887"
             ],
             [
              0.1111111111111111,
              "#46039f"
             ],
             [
              0.2222222222222222,
              "#7201a8"
             ],
             [
              0.3333333333333333,
              "#9c179e"
             ],
             [
              0.4444444444444444,
              "#bd3786"
             ],
             [
              0.5555555555555556,
              "#d8576b"
             ],
             [
              0.6666666666666666,
              "#ed7953"
             ],
             [
              0.7777777777777778,
              "#fb9f3a"
             ],
             [
              0.8888888888888888,
              "#fdca26"
             ],
             [
              1,
              "#f0f921"
             ]
            ],
            "type": "heatmap"
           }
          ],
          "heatmapgl": [
           {
            "colorbar": {
             "outlinewidth": 0,
             "ticks": ""
            },
            "colorscale": [
             [
              0,
              "#0d0887"
             ],
             [
              0.1111111111111111,
              "#46039f"
             ],
             [
              0.2222222222222222,
              "#7201a8"
             ],
             [
              0.3333333333333333,
              "#9c179e"
             ],
             [
              0.4444444444444444,
              "#bd3786"
             ],
             [
              0.5555555555555556,
              "#d8576b"
             ],
             [
              0.6666666666666666,
              "#ed7953"
             ],
             [
              0.7777777777777778,
              "#fb9f3a"
             ],
             [
              0.8888888888888888,
              "#fdca26"
             ],
             [
              1,
              "#f0f921"
             ]
            ],
            "type": "heatmapgl"
           }
          ],
          "histogram": [
           {
            "marker": {
             "pattern": {
              "fillmode": "overlay",
              "size": 10,
              "solidity": 0.2
             }
            },
            "type": "histogram"
           }
          ],
          "histogram2d": [
           {
            "colorbar": {
             "outlinewidth": 0,
             "ticks": ""
            },
            "colorscale": [
             [
              0,
              "#0d0887"
             ],
             [
              0.1111111111111111,
              "#46039f"
             ],
             [
              0.2222222222222222,
              "#7201a8"
             ],
             [
              0.3333333333333333,
              "#9c179e"
             ],
             [
              0.4444444444444444,
              "#bd3786"
             ],
             [
              0.5555555555555556,
              "#d8576b"
             ],
             [
              0.6666666666666666,
              "#ed7953"
             ],
             [
              0.7777777777777778,
              "#fb9f3a"
             ],
             [
              0.8888888888888888,
              "#fdca26"
             ],
             [
              1,
              "#f0f921"
             ]
            ],
            "type": "histogram2d"
           }
          ],
          "histogram2dcontour": [
           {
            "colorbar": {
             "outlinewidth": 0,
             "ticks": ""
            },
            "colorscale": [
             [
              0,
              "#0d0887"
             ],
             [
              0.1111111111111111,
              "#46039f"
             ],
             [
              0.2222222222222222,
              "#7201a8"
             ],
             [
              0.3333333333333333,
              "#9c179e"
             ],
             [
              0.4444444444444444,
              "#bd3786"
             ],
             [
              0.5555555555555556,
              "#d8576b"
             ],
             [
              0.6666666666666666,
              "#ed7953"
             ],
             [
              0.7777777777777778,
              "#fb9f3a"
             ],
             [
              0.8888888888888888,
              "#fdca26"
             ],
             [
              1,
              "#f0f921"
             ]
            ],
            "type": "histogram2dcontour"
           }
          ],
          "mesh3d": [
           {
            "colorbar": {
             "outlinewidth": 0,
             "ticks": ""
            },
            "type": "mesh3d"
           }
          ],
          "parcoords": [
           {
            "line": {
             "colorbar": {
              "outlinewidth": 0,
              "ticks": ""
             }
            },
            "type": "parcoords"
           }
          ],
          "pie": [
           {
            "automargin": true,
            "type": "pie"
           }
          ],
          "scatter": [
           {
            "fillpattern": {
             "fillmode": "overlay",
             "size": 10,
             "solidity": 0.2
            },
            "type": "scatter"
           }
          ],
          "scatter3d": [
           {
            "line": {
             "colorbar": {
              "outlinewidth": 0,
              "ticks": ""
             }
            },
            "marker": {
             "colorbar": {
              "outlinewidth": 0,
              "ticks": ""
             }
            },
            "type": "scatter3d"
           }
          ],
          "scattercarpet": [
           {
            "marker": {
             "colorbar": {
              "outlinewidth": 0,
              "ticks": ""
             }
            },
            "type": "scattercarpet"
           }
          ],
          "scattergeo": [
           {
            "marker": {
             "colorbar": {
              "outlinewidth": 0,
              "ticks": ""
             }
            },
            "type": "scattergeo"
           }
          ],
          "scattergl": [
           {
            "marker": {
             "colorbar": {
              "outlinewidth": 0,
              "ticks": ""
             }
            },
            "type": "scattergl"
           }
          ],
          "scattermapbox": [
           {
            "marker": {
             "colorbar": {
              "outlinewidth": 0,
              "ticks": ""
             }
            },
            "type": "scattermapbox"
           }
          ],
          "scatterpolar": [
           {
            "marker": {
             "colorbar": {
              "outlinewidth": 0,
              "ticks": ""
             }
            },
            "type": "scatterpolar"
           }
          ],
          "scatterpolargl": [
           {
            "marker": {
             "colorbar": {
              "outlinewidth": 0,
              "ticks": ""
             }
            },
            "type": "scatterpolargl"
           }
          ],
          "scatterternary": [
           {
            "marker": {
             "colorbar": {
              "outlinewidth": 0,
              "ticks": ""
             }
            },
            "type": "scatterternary"
           }
          ],
          "surface": [
           {
            "colorbar": {
             "outlinewidth": 0,
             "ticks": ""
            },
            "colorscale": [
             [
              0,
              "#0d0887"
             ],
             [
              0.1111111111111111,
              "#46039f"
             ],
             [
              0.2222222222222222,
              "#7201a8"
             ],
             [
              0.3333333333333333,
              "#9c179e"
             ],
             [
              0.4444444444444444,
              "#bd3786"
             ],
             [
              0.5555555555555556,
              "#d8576b"
             ],
             [
              0.6666666666666666,
              "#ed7953"
             ],
             [
              0.7777777777777778,
              "#fb9f3a"
             ],
             [
              0.8888888888888888,
              "#fdca26"
             ],
             [
              1,
              "#f0f921"
             ]
            ],
            "type": "surface"
           }
          ],
          "table": [
           {
            "cells": {
             "fill": {
              "color": "#EBF0F8"
             },
             "line": {
              "color": "white"
             }
            },
            "header": {
             "fill": {
              "color": "#C8D4E3"
             },
             "line": {
              "color": "white"
             }
            },
            "type": "table"
           }
          ]
         },
         "layout": {
          "annotationdefaults": {
           "arrowcolor": "#2a3f5f",
           "arrowhead": 0,
           "arrowwidth": 1
          },
          "autotypenumbers": "strict",
          "coloraxis": {
           "colorbar": {
            "outlinewidth": 0,
            "ticks": ""
           }
          },
          "colorscale": {
           "diverging": [
            [
             0,
             "#8e0152"
            ],
            [
             0.1,
             "#c51b7d"
            ],
            [
             0.2,
             "#de77ae"
            ],
            [
             0.3,
             "#f1b6da"
            ],
            [
             0.4,
             "#fde0ef"
            ],
            [
             0.5,
             "#f7f7f7"
            ],
            [
             0.6,
             "#e6f5d0"
            ],
            [
             0.7,
             "#b8e186"
            ],
            [
             0.8,
             "#7fbc41"
            ],
            [
             0.9,
             "#4d9221"
            ],
            [
             1,
             "#276419"
            ]
           ],
           "sequential": [
            [
             0,
             "#0d0887"
            ],
            [
             0.1111111111111111,
             "#46039f"
            ],
            [
             0.2222222222222222,
             "#7201a8"
            ],
            [
             0.3333333333333333,
             "#9c179e"
            ],
            [
             0.4444444444444444,
             "#bd3786"
            ],
            [
             0.5555555555555556,
             "#d8576b"
            ],
            [
             0.6666666666666666,
             "#ed7953"
            ],
            [
             0.7777777777777778,
             "#fb9f3a"
            ],
            [
             0.8888888888888888,
             "#fdca26"
            ],
            [
             1,
             "#f0f921"
            ]
           ],
           "sequentialminus": [
            [
             0,
             "#0d0887"
            ],
            [
             0.1111111111111111,
             "#46039f"
            ],
            [
             0.2222222222222222,
             "#7201a8"
            ],
            [
             0.3333333333333333,
             "#9c179e"
            ],
            [
             0.4444444444444444,
             "#bd3786"
            ],
            [
             0.5555555555555556,
             "#d8576b"
            ],
            [
             0.6666666666666666,
             "#ed7953"
            ],
            [
             0.7777777777777778,
             "#fb9f3a"
            ],
            [
             0.8888888888888888,
             "#fdca26"
            ],
            [
             1,
             "#f0f921"
            ]
           ]
          },
          "colorway": [
           "#636efa",
           "#EF553B",
           "#00cc96",
           "#ab63fa",
           "#FFA15A",
           "#19d3f3",
           "#FF6692",
           "#B6E880",
           "#FF97FF",
           "#FECB52"
          ],
          "font": {
           "color": "#2a3f5f"
          },
          "geo": {
           "bgcolor": "white",
           "lakecolor": "white",
           "landcolor": "#E5ECF6",
           "showlakes": true,
           "showland": true,
           "subunitcolor": "white"
          },
          "hoverlabel": {
           "align": "left"
          },
          "hovermode": "closest",
          "mapbox": {
           "style": "light"
          },
          "paper_bgcolor": "white",
          "plot_bgcolor": "#E5ECF6",
          "polar": {
           "angularaxis": {
            "gridcolor": "white",
            "linecolor": "white",
            "ticks": ""
           },
           "bgcolor": "#E5ECF6",
           "radialaxis": {
            "gridcolor": "white",
            "linecolor": "white",
            "ticks": ""
           }
          },
          "scene": {
           "xaxis": {
            "backgroundcolor": "#E5ECF6",
            "gridcolor": "white",
            "gridwidth": 2,
            "linecolor": "white",
            "showbackground": true,
            "ticks": "",
            "zerolinecolor": "white"
           },
           "yaxis": {
            "backgroundcolor": "#E5ECF6",
            "gridcolor": "white",
            "gridwidth": 2,
            "linecolor": "white",
            "showbackground": true,
            "ticks": "",
            "zerolinecolor": "white"
           },
           "zaxis": {
            "backgroundcolor": "#E5ECF6",
            "gridcolor": "white",
            "gridwidth": 2,
            "linecolor": "white",
            "showbackground": true,
            "ticks": "",
            "zerolinecolor": "white"
           }
          },
          "shapedefaults": {
           "line": {
            "color": "#2a3f5f"
           }
          },
          "ternary": {
           "aaxis": {
            "gridcolor": "white",
            "linecolor": "white",
            "ticks": ""
           },
           "baxis": {
            "gridcolor": "white",
            "linecolor": "white",
            "ticks": ""
           },
           "bgcolor": "#E5ECF6",
           "caxis": {
            "gridcolor": "white",
            "linecolor": "white",
            "ticks": ""
           }
          },
          "title": {
           "x": 0.05
          },
          "xaxis": {
           "automargin": true,
           "gridcolor": "white",
           "linecolor": "white",
           "ticks": "",
           "title": {
            "standoff": 15
           },
           "zerolinecolor": "white",
           "zerolinewidth": 2
          },
          "yaxis": {
           "automargin": true,
           "gridcolor": "white",
           "linecolor": "white",
           "ticks": "",
           "title": {
            "standoff": 15
           },
           "zerolinecolor": "white",
           "zerolinewidth": 2
          }
         }
        },
        "xaxis": {
         "anchor": "y",
         "domain": [
          0,
          1
         ]
        },
        "yaxis": {
         "anchor": "x",
         "domain": [
          0,
          1
         ]
        }
       }
      }
     },
     "metadata": {},
     "output_type": "display_data"
    }
   ],
   "source": [
    "fig = make_subplots(rows=1,cols=1,subplot_titles=[\"Average Animal\"])\n",
    "\n",
    "\n",
    "otherGraphDataNorm = makeGraphData(\"cosine\",animals,normalized=True)\n",
    "print(otherGraphDataNorm)\n",
    "\n",
    "avgGraphData = [{\n",
    "        \"species\":\"Average\",\n",
    "        \"x\":average[0],\n",
    "        \"y\":average[1]\n",
    "      }]\n",
    "\n",
    "normTrace0=go.Scatter(hoverinfo=\"text\",hovertext=[d[\"species\"] for d in avgGraphData], x=[d[\"x\"] for d in avgGraphData],y=[d[\"y\"] for d in avgGraphData],mode=\"markers\",name=\"Average\")\n",
    "normTrace1=go.Scatter(hoverinfo=\"text\",hovertext=[d[\"species\"] for d in otherGraphDataNorm], x=[d[\"x\"] for d in otherGraphDataNorm],y=[d[\"y\"] for d in otherGraphDataNorm],mode=\"markers\",name=\"Animals\")\n",
    "\n",
    "for trace in [normTrace0,normTrace1]:\n",
    "    fig.add_trace(trace,row=1,col=1)\n",
    "\n",
    "fig.show()"
   ]
  },
  {
   "cell_type": "markdown",
   "metadata": {},
   "source": [
    "# Using MMR to improve diversity of answers\n",
    "As explained in [this blog post](https://medium.com/tech-that-works/maximal-marginal-relevance-to-rerank-results-in-unsupervised-keyphrase-extraction-22d95015c7c5)"
   ]
  },
  {
   "cell_type": "code",
   "execution_count": 21,
   "metadata": {},
   "outputs": [
    {
     "name": "stdout",
     "output_type": "stream",
     "text": [
      "Standard result: Cow\n",
      "MMR ranked: Cow\n",
      "Standard result: Pig\n",
      "MMR ranked: Brachiosaurus\n",
      "Standard result: African Elephant\n",
      "MMR ranked: Diplodocus\n",
      "Standard result: Horse\n",
      "MMR ranked: Triceratops\n",
      "Standard result: Giraffe\n",
      "MMR ranked: Rhesus Monkey\n",
      "Standard result: Jaguar\n",
      "MMR ranked: Mole\n",
      "Standard result: Kangaroo\n",
      "MMR ranked: Human\n",
      "Standard result: Asian Elephant\n",
      "MMR ranked: Mouse\n",
      "Standard result: Gorilla\n",
      "MMR ranked: Potar Monkey\n",
      "Standard result: Donkey\n",
      "MMR ranked: Chimpanzee\n"
     ]
    }
   ],
   "source": [
    "def mmrQuery(collection,query_vector):\n",
    "    aggResults = list(collection.aggregate([\n",
    "        {\n",
    "            \"$search\":{\n",
    "                \"index\":\"default\",\n",
    "                \"knnBeta\":{\n",
    "                    \"vector\":query_vector,\n",
    "                    \"path\":\"2d.normalized.cosine\",\n",
    "                    \"k\":50,\n",
    "                    \"filter\":{\n",
    "                        \"text\":{\n",
    "                            \"query\":\"animal\",\n",
    "                            \"path\":\"type\"\n",
    "                        }\n",
    "                    }\n",
    "                }\n",
    "            }\n",
    "        },\n",
    "        {\n",
    "            \"$project\":{\n",
    "                \"_id\":1,\n",
    "                \"species\":1,\n",
    "                \"embedding\":\"$2d.normalized.cosine\",\n",
    "                \"score\":{\"$meta\":\"searchScore\"}\n",
    "            }\n",
    "        }\n",
    "    ]))\n",
    "    candidates = pd.DataFrame(aggResults).set_index('_id')\n",
    "    embedding_matrix = candidates[[\"embedding\"]].squeeze()\n",
    "    mmrResults = maximal_marginal_relevance(\n",
    "        sentence_vector=query_vector,\n",
    "        documents=candidates,\n",
    "        embedding_matrix=embedding_matrix,\n",
    "        lambda_constant=0.1,\n",
    "        threshold_docs=10\n",
    "    )\n",
    "    return({\"results\":aggResults,\"mmrResults\":mmrResults})\n",
    "\n",
    "r = mmrQuery(collection,inputVector)\n",
    "for i in range(0,10):\n",
    "    print('Standard result: {}\\nMMR ranked: {}'.format(r['results'][i]['species'],r['mmrResults'][i]['species']))"
   ]
  },
  {
   "attachments": {},
   "cell_type": "markdown",
   "metadata": {},
   "source": [
    "# A simple statistical model for language\n",
    "Calculate the position of a word in 2 dimensional vector space comprising its average position in a sentence and the average length of the words preceding and suceeding it."
   ]
  },
  {
   "cell_type": "code",
   "execution_count": null,
   "metadata": {},
   "outputs": [],
   "source": [
    "import requests\n",
    "\n",
    "text = requests.get('https://www.gutenberg.org/cache/epub/71087/pg71087.txt').text\n",
    "\n",
    "sentences = text.split('.')\n",
    "\n",
    "wordModel = {}\n",
    "for s in sentences:\n",
    "    words = s.split()\n",
    "    for i,w in enumerate(words):\n",
    "        w = w.strip(\"_-?',;:}{][.!@`|=+*‘)(\")\n",
    "        if i > 0:\n",
    "            precedingLength = len(words[i-1])\n",
    "        else:\n",
    "            precedingLength = 0\n",
    "        \n",
    "        if i < len(words)-1:\n",
    "            succeddingLength = len(words[i+1])\n",
    "        else:\n",
    "            succeddingLength = 0\n",
    "        \n",
    "        if w in wordModel:\n",
    "            wordModel[w]['vector'][0] = (wordModel[w]['count']*wordModel[w]['vector'][0]+i)/(wordModel[w]['count']+1)\n",
    "            wordModel[w]['vector'][1] = (wordModel[w]['count']*wordModel[w]['vector'][1]+(succeddingLength+precedingLength)/2)/(wordModel[w]['count']+1)\n",
    "            wordModel[w]['count'] += 1\n",
    "        else:\n",
    "            wordModel[w] = {'count':1,'vector':[float(i)+len(w),float(len(w)+((succeddingLength+precedingLength)/2))]}\n",
    "\n",
    "graphData = []\n",
    "for v in wordModel:\n",
    "    x = wordModel[v]['vector'][0]\n",
    "    y = wordModel[v]['vector'][1]\n",
    "    graphData.append(\n",
    "        {\n",
    "            \"word\":v,\n",
    "            'type':'word',\n",
    "            '2d':{\n",
    "                    'raw':{\n",
    "                        'euclidean':[x,y],\n",
    "                        'dotproduct':[x,y],\n",
    "                        'cosine':[x,y]\n",
    "                    },\n",
    "                    'normalized':{\n",
    "                        'euclidean':normalize([x,y]),\n",
    "                        'dotproduct':normalize([x,y]),\n",
    "                        'cosine':normalize([x,y])\n",
    "                    }\n",
    "                },\n",
    "            \"x\":x,\n",
    "            \"y\":y\n",
    "        }\n",
    "    )\n",
    "\n",
    "fig = make_subplots(rows=1,cols=1,subplot_titles=[\"Word Model\"])\n",
    "trace=go.Scatter(hoverinfo=\"text\",hovertext=[d[\"word\"] for d in graphData], x=[d[\"x\"] for d in graphData],y=[d[\"y\"] for d in graphData],mode=\"markers\")\n",
    "fig.add_trace(trace,row=1,col=1)\n",
    "fig.show()\n",
    "\n",
    "collection.delete_many({\"type\":'word'})\n",
    "collection.insert_many(graphData)"
   ]
  },
  {
   "cell_type": "code",
   "execution_count": null,
   "metadata": {},
   "outputs": [],
   "source": [
    "# Select a random word and find it's nearest neighbours\n",
    "\n",
    "word = collection.aggregate([{\"$sample\":{\"size\":1}}]).next()\n",
    "vector = [word['x'],word['y']]\n",
    "\n",
    "neighbours = collection.aggregate([\n",
    "    {\n",
    "        \"$search\":{\n",
    "            \"knnBeta\":{\n",
    "                \"vector\":vector,\n",
    "                \"path\":\"2d.raw.cosine\",\n",
    "                \"filter\":{\n",
    "                    \"text\":{\n",
    "                        \"query\":\"word\",\n",
    "                        \"path\":\"type\"\n",
    "                    }\n",
    "                },\n",
    "                \"k\":200\n",
    "            }\n",
    "        }\n",
    "    },\n",
    "    {\n",
    "        \"$limit\":10\n",
    "    }\n",
    "])\n",
    "\n",
    "print(\"Nearest neighbours to {}\".format(word['word']))\n",
    "while neighbours._has_next():\n",
    "    print(neighbours.next()['word'])"
   ]
  }
 ],
 "metadata": {
  "kernelspec": {
   "display_name": "base",
   "language": "python",
   "name": "python3"
  },
  "language_info": {
   "codemirror_mode": {
    "name": "ipython",
    "version": 3
   },
   "file_extension": ".py",
   "mimetype": "text/x-python",
   "name": "python",
   "nbconvert_exporter": "python",
   "pygments_lexer": "ipython3",
   "version": "3.9.13"
  },
  "orig_nbformat": 4
 },
 "nbformat": 4,
 "nbformat_minor": 2
}
